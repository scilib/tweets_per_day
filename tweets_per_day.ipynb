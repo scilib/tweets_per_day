{
  "nbformat": 4,
  "nbformat_minor": 0,
  "metadata": {
    "colab": {
      "name": "tweets per day.ipynb",
      "provenance": [],
      "collapsed_sections": []
    },
    "kernelspec": {
      "name": "python3",
      "display_name": "Python 3"
    },
    "language_info": {
      "name": "python"
    }
  },
  "cells": [
    {
      "cell_type": "markdown",
      "metadata": {
        "id": "TcBuZ8MjlPUE"
      },
      "source": [
        "Plot the number of tweets per day from a specific account, by parsing Twitter Analytics CSV download.\n",
        "\n",
        "Note: Twitter calls Analytics [\"Tweet activity dashboard\"](https://help.twitter.com/en/managing-your-account/using-the-tweet-activity-dashboard)\n",
        "\n",
        "Richard Akerman\n",
        "April 11, 2021\n",
        "\n",
        "Code developed in [Google Colaboratory](https://colab.research.google.com/) will be posted to GitHub (scilib) with MIT License.\n",
        "\n",
        "Will base some of the code on\n",
        "\n",
        "* blog posts per day code - see scilib GitHub https://github.com/scilib/typepad_blog_posts_per_day\n",
        "* Ontario COVID-19 new cases chart code - see scilib GitHub https://github.com/scilib/ontario_cv19_opendata_plot"
      ]
    },
    {
      "cell_type": "markdown",
      "metadata": {
        "id": "W55iXRkRnEEt"
      },
      "source": [
        "# Downloading your Twitter Analytics stats\n",
        "\n",
        "To download your stats, login to your Twitter account and go to More... Analytics, or directly to\n",
        "\n",
        "https://analytics.twitter.com/\n",
        "\n",
        "then select Tweets from the menu at the top.\n",
        "\n",
        "The URL will be \n",
        "\n",
        "<pre>https://analytics.twitter.com/user/<var>twitter_username</var>/tweets</pre>\n",
        "\n",
        "Set your date range by pulling down the \"Last 28 Days\" menu.\n",
        "\n",
        "## For download\n",
        "\n",
        "1.  **The limits for the dates it will let you export are listed in the pulldown menu.**  It lists the last 5 months inclusive.\n",
        "2.   **The maximum permitted range for export, within the constraint above, is one month (31 days).** \n",
        "\n",
        "In other words, for each individual download you can only export a 31 day range within the last 5 months.\n",
        "\n",
        "## For display\n",
        "\n",
        "You can select and *display* ranges before the date listed in the pulldown menu, but if you try to *export* them it will give the rather misleading message \"There was a problem exporting your data, try again later.\"\n",
        "\n",
        "The maximum range it will let you select is three months, but if you do so, the Export data option will be disabled.<br/>\n",
        "     If you try to select a range longer than three months it will just automatically adjust the start or end date to always constrain it to three months.\n",
        "\n",
        "## To export the data, by date, as CSV\n",
        "\n",
        "Select the pulldown menu Export data ⌄ and then select By day."
      ]
    },
    {
      "cell_type": "markdown",
      "metadata": {
        "id": "n-wl4zLM5Bei"
      },
      "source": [
        "# Inspecting the CSV manually\n",
        "\n",
        "In Mac Numbers it is easy to see it is a well-formatted file (and in fact you could just plot it in a spreadsheet).\n",
        "\n",
        "Download filename format:\n",
        "\n",
        "<pre>\n",
        "daily_tweet_activity_metrics_<var>twitterusername</var>_<var>startdateYYYYMMDD</var>_<var>enddateYYYYMMDD</var>_en.csv\n",
        "</pre>\n",
        "e.g.\n",
        "<pre>\n",
        "daily_tweet_activity_metrics_<i>foo</i>_20210101_20210201_en.csv\n",
        "</pre>\n",
        "\n",
        "The key items for the purposes of this code are:\n",
        "\n",
        "<pre>\n",
        "Column 0 - Date  |  Column 1 - Tweets published\n",
        "YYYY-MM-DD       |  numerical count including 0 on days with no tweets\n",
        "</pre>\n",
        "\n",
        "There are a lot of other columns with useful info but this code won't examine them."
      ]
    },
    {
      "cell_type": "markdown",
      "metadata": {
        "id": "RitWZVmcM4A8"
      },
      "source": [
        "# Mount the Google Drive\n",
        "\n",
        "(This only needs to be done once per active session.\n",
        "You will need to re-run it if your instance disconnects.)"
      ]
    },
    {
      "cell_type": "code",
      "metadata": {
        "colab": {
          "base_uri": "https://localhost:8080/"
        },
        "id": "AyBkSZbmVE0u",
        "outputId": "0192d5e0-d747-42c4-b1f5-65209bd7704f"
      },
      "source": [
        "from google.colab import drive\n",
        "drive.mount('/content/gdrive')"
      ],
      "execution_count": 1,
      "outputs": [
        {
          "output_type": "stream",
          "text": [
            "Mounted at /content/gdrive\n"
          ],
          "name": "stdout"
        }
      ]
    },
    {
      "cell_type": "markdown",
      "metadata": {
        "id": "6CyxOBR77rGs"
      },
      "source": [
        "# Set up"
      ]
    },
    {
      "cell_type": "code",
      "metadata": {
        "id": "w7vyP9j_qfdH"
      },
      "source": [
        "# import all packages and set plots to be embedded inline\n",
        "import pandas as pd\n",
        "import matplotlib.pyplot as plt\n",
        "\n",
        "# commenting out code below since I just copied it from somewhere else without\n",
        "#   the details of what it does or whether it is necessary\n",
        "\n",
        "# import warnings\n",
        "# warnings.filterwarnings('ignore')\n",
        "\n",
        "# %matplotlib inline"
      ],
      "execution_count": 2,
      "outputs": []
    },
    {
      "cell_type": "markdown",
      "metadata": {
        "id": "RmWrmBGO7-iB"
      },
      "source": [
        "# Access the file on the web and\n",
        "# make a dataframe of dates and tweet counts from Twitter Analytics CSV file"
      ]
    },
    {
      "cell_type": "code",
      "metadata": {
        "id": "cOasNagQ44WE"
      },
      "source": [
        "# Twitter Analytics CSV file\n",
        "# You can use the same pandas format to read either from a local file or from a web URL\n",
        "\n",
        "# Remember that for Google Drive you have to include the full file path\n",
        "\n",
        "twitter_analytics_data_file = \"/content/gdrive/MyDrive/Colab Notebooks/daily_tweet_activity_metrics_EXAMPLE_20210101_20210201_en.csv\"\n",
        "df_twitter_analytics_data = pd.read_csv(twitter_analytics_data_file)"
      ],
      "execution_count": 8,
      "outputs": []
    },
    {
      "cell_type": "markdown",
      "metadata": {
        "id": "0_6TbaGfHKe9"
      },
      "source": [
        "# Have a look at the data"
      ]
    },
    {
      "cell_type": "code",
      "metadata": {
        "id": "nXVNQLnw0gmM",
        "colab": {
          "base_uri": "https://localhost:8080/",
          "height": 988
        },
        "outputId": "e6700548-955b-44c3-e05b-45bf249ca195"
      },
      "source": [
        "# do sample and info to have a look at the data\n",
        "#   - dates are \"object\",\n",
        "#   - tweet counts are int64\n",
        "\n",
        "df_twitter_analytics_data.info()\n",
        "df_twitter_analytics_data[['Date','Tweets published']].sample(5)"
      ],
      "execution_count": 9,
      "outputs": [
        {
          "output_type": "stream",
          "text": [
            "<class 'pandas.core.frame.DataFrame'>\n",
            "RangeIndex: 31 entries, 0 to 30\n",
            "Data columns (total 38 columns):\n",
            " #   Column                        Non-Null Count  Dtype  \n",
            "---  ------                        --------------  -----  \n",
            " 0   Date                          31 non-null     object \n",
            " 1   Tweets published              31 non-null     int64  \n",
            " 2   impressions                   31 non-null     int64  \n",
            " 3   engagements                   31 non-null     int64  \n",
            " 4   engagement rate               31 non-null     float64\n",
            " 5   retweets                      31 non-null     int64  \n",
            " 6   replies                       31 non-null     int64  \n",
            " 7   likes                         31 non-null     int64  \n",
            " 8   user profile clicks           31 non-null     int64  \n",
            " 9   url clicks                    31 non-null     int64  \n",
            " 10  hashtag clicks                31 non-null     int64  \n",
            " 11  detail expands                31 non-null     int64  \n",
            " 12  permalink clicks              31 non-null     int64  \n",
            " 13  app opens                     31 non-null     int64  \n",
            " 14  app installs                  31 non-null     int64  \n",
            " 15  follows                       31 non-null     int64  \n",
            " 16  email tweet                   31 non-null     int64  \n",
            " 17  dial phone                    31 non-null     int64  \n",
            " 18  media views                   31 non-null     int64  \n",
            " 19  media engagements             31 non-null     int64  \n",
            " 20  promoted impressions          31 non-null     object \n",
            " 21  promoted engagements          31 non-null     object \n",
            " 22  promoted engagement rate      31 non-null     object \n",
            " 23  promoted retweets             31 non-null     object \n",
            " 24  promoted replies              31 non-null     object \n",
            " 25  promoted likes                31 non-null     object \n",
            " 26  promoted user profile clicks  31 non-null     object \n",
            " 27  promoted url clicks           31 non-null     object \n",
            " 28  promoted hashtag clicks       31 non-null     object \n",
            " 29  promoted detail expands       31 non-null     object \n",
            " 30  promoted permalink clicks     31 non-null     object \n",
            " 31  promoted app opens            31 non-null     object \n",
            " 32  promoted app installs         31 non-null     object \n",
            " 33  promoted follows              31 non-null     object \n",
            " 34  promoted email tweet          31 non-null     object \n",
            " 35  promoted dial phone           31 non-null     object \n",
            " 36  promoted media views          31 non-null     object \n",
            " 37  promoted media engagements    31 non-null     object \n",
            "dtypes: float64(1), int64(18), object(19)\n",
            "memory usage: 9.3+ KB\n"
          ],
          "name": "stdout"
        },
        {
          "output_type": "execute_result",
          "data": {
            "text/html": [
              "<div>\n",
              "<style scoped>\n",
              "    .dataframe tbody tr th:only-of-type {\n",
              "        vertical-align: middle;\n",
              "    }\n",
              "\n",
              "    .dataframe tbody tr th {\n",
              "        vertical-align: top;\n",
              "    }\n",
              "\n",
              "    .dataframe thead th {\n",
              "        text-align: right;\n",
              "    }\n",
              "</style>\n",
              "<table border=\"1\" class=\"dataframe\">\n",
              "  <thead>\n",
              "    <tr style=\"text-align: right;\">\n",
              "      <th></th>\n",
              "      <th>Date</th>\n",
              "      <th>Tweets published</th>\n",
              "    </tr>\n",
              "  </thead>\n",
              "  <tbody>\n",
              "    <tr>\n",
              "      <th>26</th>\n",
              "      <td>2021-01-27</td>\n",
              "      <td>2</td>\n",
              "    </tr>\n",
              "    <tr>\n",
              "      <th>25</th>\n",
              "      <td>2021-01-26</td>\n",
              "      <td>4</td>\n",
              "    </tr>\n",
              "    <tr>\n",
              "      <th>24</th>\n",
              "      <td>2021-01-25</td>\n",
              "      <td>0</td>\n",
              "    </tr>\n",
              "    <tr>\n",
              "      <th>12</th>\n",
              "      <td>2021-01-13</td>\n",
              "      <td>1</td>\n",
              "    </tr>\n",
              "    <tr>\n",
              "      <th>19</th>\n",
              "      <td>2021-01-20</td>\n",
              "      <td>0</td>\n",
              "    </tr>\n",
              "  </tbody>\n",
              "</table>\n",
              "</div>"
            ],
            "text/plain": [
              "          Date  Tweets published\n",
              "26  2021-01-27                 2\n",
              "25  2021-01-26                 4\n",
              "24  2021-01-25                 0\n",
              "12  2021-01-13                 1\n",
              "19  2021-01-20                 0"
            ]
          },
          "metadata": {
            "tags": []
          },
          "execution_count": 9
        }
      ]
    },
    {
      "cell_type": "markdown",
      "metadata": {
        "id": "lQcROltv-Af0"
      },
      "source": [
        "# Make the chart\n",
        "\n",
        "Should be able to plot directly, unless I need to do something about the dates."
      ]
    },
    {
      "cell_type": "code",
      "metadata": {
        "colab": {
          "base_uri": "https://localhost:8080/",
          "height": 654
        },
        "id": "vmR3BbmWlL_C",
        "outputId": "29158618-9b06-4111-e717-b850121d40a6"
      },
      "source": [
        "xaxis = 'Date' \n",
        "yaxis = 'Tweets published'\n",
        "\n",
        "ax = df_twitter_analytics_data.plot.bar(x=xaxis,y=yaxis,figsize=(30,10),legend=False)"
      ],
      "execution_count": 13,
      "outputs": [
        {
          "output_type": "display_data",
          "data": {
            "image/png": "[encoded data removed]",
            "text/plain": [
              "<Figure size 2160x720 with 1 Axes>"
            ]
          },
          "metadata": {
            "tags": [],
            "needs_background": "light"
          }
        }
      ]
    }
  ]
}
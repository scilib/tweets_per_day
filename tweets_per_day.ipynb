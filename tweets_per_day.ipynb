{
  "nbformat": 4,
  "nbformat_minor": 0,
  "metadata": {
    "colab": {
      "name": "tweets per day.ipynb",
      "provenance": [],
      "collapsed_sections": []
    },
    "kernelspec": {
      "name": "python3",
      "display_name": "Python 3"
    },
    "language_info": {
      "name": "python"
    }
  },
  "cells": [
    {
      "cell_type": "markdown",
      "metadata": {
        "id": "TcBuZ8MjlPUE"
      },
      "source": [
        "Plot the number of tweets per day from a specific account, by parsing Twitter Analytics CSV download.\n",
        "\n",
        "Note: Twitter calls Analytics [\"Tweet activity dashboard\"](https://help.twitter.com/en/managing-your-account/using-the-tweet-activity-dashboard)\n",
        "\n",
        "Richard Akerman\n",
        "April 11, 2021\n",
        "\n",
        "Code developed in [Google Colaboratory](https://colab.research.google.com/) will be posted to GitHub (scilib) with MIT License.\n",
        "\n",
        "Will base some of the code on\n",
        "\n",
        "* blog posts per day code - see scilib GitHub https://github.com/scilib/typepad_blog_posts_per_day\n",
        "* Ontario COVID-19 new cases chart code - see scilib GitHub https://github.com/scilib/ontario_cv19_opendata_plot"
      ]
    },
    {
      "cell_type": "markdown",
      "metadata": {
        "id": "W55iXRkRnEEt"
      },
      "source": [
        "# Downloading your Twitter Analytics stats\n",
        "\n",
        "To download your stats, login to your Twitter account and go to More... Analytics, or directly to\n",
        "\n",
        "https://analytics.twitter.com/\n",
        "\n",
        "then select Tweets from the menu at the top.\n",
        "\n",
        "The URL will be \n",
        "\n",
        "<pre>https://analytics.twitter.com/user/<var>twitter_username</var>/tweets</pre>\n",
        "\n",
        "Set your date range by pulling down the \"Last 28 Days\" menu.\n",
        "\n",
        "## For download\n",
        "\n",
        "1.  **The limits for the dates it will let you export are listed in the pulldown menu.**  It lists the last 5 months inclusive.\n",
        "2.   **The maximum permitted range for export, within the constraint above, is one month (31 days).** \n",
        "\n",
        "In other words, for each individual download you can only export a 31 day range within the last 5 months.\n",
        "\n",
        "## For display\n",
        "\n",
        "You can select and *display* ranges before the date listed in the pulldown menu, but if you try to *export* them it will give the rather misleading message \"There was a problem exporting your data, try again later.\"\n",
        "\n",
        "The maximum range it will let you select is three months, but if you do so, the Export data option will be disabled.<br/>\n",
        "     If you try to select a range longer than three months it will just automatically adjust the start or end date to always constrain it to three months.\n",
        "\n",
        "## To export the data, by date, as CSV\n",
        "\n",
        "Select the pulldown menu Export data ⌄ and then select By day."
      ]
    },
    {
      "cell_type": "markdown",
      "metadata": {
        "id": "n-wl4zLM5Bei"
      },
      "source": [
        "# Inspecting the CSV manually\n",
        "\n",
        "In Mac Numbers it is easy to see it is a well-formatted file (and in fact you could just plot it in a spreadsheet).\n",
        "\n",
        "Download filename format:\n",
        "\n",
        "<pre>\n",
        "daily_tweet_activity_metrics_<var>twitterusername</var>_<var>startdateYYYYMMDD</var>_<var>enddateYYYYMMDD</var>_en.csv\n",
        "</pre>\n",
        "e.g.\n",
        "<pre>\n",
        "daily_tweet_activity_metrics_<i>foo</i>_20210101_20210201_en.csv\n",
        "</pre>\n",
        "\n",
        "The key items for the purposes of this code are:\n",
        "\n",
        "<pre>\n",
        "Column 0 - Date  |  Column 1 - Tweets published\n",
        "YYYY-MM-DD       |  numerical count including 0 on days with no tweets\n",
        "</pre>\n",
        "\n",
        "There are a lot of other columns with useful info but this code won't examine them."
      ]
    },
    {
      "cell_type": "markdown",
      "metadata": {
        "id": "RitWZVmcM4A8"
      },
      "source": [
        "# Mount the Google Drive\n",
        "\n",
        "(This only needs to be done once per active session.\n",
        "You will need to re-run it if your instance disconnects.)"
      ]
    },
    {
      "cell_type": "code",
      "metadata": {
        "colab": {
          "base_uri": "https://localhost:8080/"
        },
        "id": "AyBkSZbmVE0u",
        "outputId": "0192d5e0-d747-42c4-b1f5-65209bd7704f"
      },
      "source": [
        "from google.colab import drive\n",
        "drive.mount('/content/gdrive')"
      ],
      "execution_count": 1,
      "outputs": [
        {
          "output_type": "stream",
          "text": [
            "Mounted at /content/gdrive\n"
          ],
          "name": "stdout"
        }
      ]
    },
    {
      "cell_type": "markdown",
      "metadata": {
        "id": "6CyxOBR77rGs"
      },
      "source": [
        "# Set up"
      ]
    },
    {
      "cell_type": "code",
      "metadata": {
        "id": "w7vyP9j_qfdH"
      },
      "source": [
        "# import all packages and set plots to be embedded inline\n",
        "import pandas as pd\n",
        "import numpy as np\n",
        "import matplotlib.pyplot as plt\n",
        "import matplotlib.ticker as ticker"
      ],
      "execution_count": 27,
      "outputs": []
    },
    {
      "cell_type": "markdown",
      "metadata": {
        "id": "RmWrmBGO7-iB"
      },
      "source": [
        "# Access the file on the web and\n",
        "# make a dataframe of dates and tweet counts from Twitter Analytics CSV file"
      ]
    },
    {
      "cell_type": "code",
      "metadata": {
        "id": "cOasNagQ44WE"
      },
      "source": [
        "# Twitter Analytics CSV file\n",
        "# You can use the same pandas format to read either from a local file or from a web URL\n",
        "\n",
        "# Remember that for Google Drive you have to include the full file path\n",
        "\n",
        "twitter_analytics_data_file = \"/content/gdrive/MyDrive/Colab Notebooks/daily_tweet_activity_metrics_EXAMPLE_20210101_20210201_en.csv\"\n",
        "df_twitter_analytics_data = pd.read_csv(twitter_analytics_data_file)"
      ],
      "execution_count": 28,
      "outputs": []
    },
    {
      "cell_type": "markdown",
      "metadata": {
        "id": "0_6TbaGfHKe9"
      },
      "source": [
        "# Have a look at the data"
      ]
    },
    {
      "cell_type": "code",
      "metadata": {
        "id": "nXVNQLnw0gmM",
        "colab": {
          "base_uri": "https://localhost:8080/",
          "height": 988
        },
        "outputId": "a47857d9-08e1-4e2c-e140-cefc54e72a49"
      },
      "source": [
        "# do sample and info to have a look at the data\n",
        "#   - dates are \"object\",\n",
        "#   - tweet counts are int64\n",
        "\n",
        "df_twitter_analytics_data.info()\n",
        "df_twitter_analytics_data[['Date','Tweets published']].sample(5)"
      ],
      "execution_count": 29,
      "outputs": [
        {
          "output_type": "stream",
          "text": [
            "<class 'pandas.core.frame.DataFrame'>\n",
            "RangeIndex: 31 entries, 0 to 30\n",
            "Data columns (total 38 columns):\n",
            " #   Column                        Non-Null Count  Dtype  \n",
            "---  ------                        --------------  -----  \n",
            " 0   Date                          31 non-null     object \n",
            " 1   Tweets published              31 non-null     int64  \n",
            " 2   impressions                   31 non-null     int64  \n",
            " 3   engagements                   31 non-null     int64  \n",
            " 4   engagement rate               31 non-null     float64\n",
            " 5   retweets                      31 non-null     int64  \n",
            " 6   replies                       31 non-null     int64  \n",
            " 7   likes                         31 non-null     int64  \n",
            " 8   user profile clicks           31 non-null     int64  \n",
            " 9   url clicks                    31 non-null     int64  \n",
            " 10  hashtag clicks                31 non-null     int64  \n",
            " 11  detail expands                31 non-null     int64  \n",
            " 12  permalink clicks              31 non-null     int64  \n",
            " 13  app opens                     31 non-null     int64  \n",
            " 14  app installs                  31 non-null     int64  \n",
            " 15  follows                       31 non-null     int64  \n",
            " 16  email tweet                   31 non-null     int64  \n",
            " 17  dial phone                    31 non-null     int64  \n",
            " 18  media views                   31 non-null     int64  \n",
            " 19  media engagements             31 non-null     int64  \n",
            " 20  promoted impressions          31 non-null     object \n",
            " 21  promoted engagements          31 non-null     object \n",
            " 22  promoted engagement rate      31 non-null     object \n",
            " 23  promoted retweets             31 non-null     object \n",
            " 24  promoted replies              31 non-null     object \n",
            " 25  promoted likes                31 non-null     object \n",
            " 26  promoted user profile clicks  31 non-null     object \n",
            " 27  promoted url clicks           31 non-null     object \n",
            " 28  promoted hashtag clicks       31 non-null     object \n",
            " 29  promoted detail expands       31 non-null     object \n",
            " 30  promoted permalink clicks     31 non-null     object \n",
            " 31  promoted app opens            31 non-null     object \n",
            " 32  promoted app installs         31 non-null     object \n",
            " 33  promoted follows              31 non-null     object \n",
            " 34  promoted email tweet          31 non-null     object \n",
            " 35  promoted dial phone           31 non-null     object \n",
            " 36  promoted media views          31 non-null     object \n",
            " 37  promoted media engagements    31 non-null     object \n",
            "dtypes: float64(1), int64(18), object(19)\n",
            "memory usage: 9.3+ KB\n"
          ],
          "name": "stdout"
        },
        {
          "output_type": "execute_result",
          "data": {
            "text/html": [
              "<div>\n",
              "<style scoped>\n",
              "    .dataframe tbody tr th:only-of-type {\n",
              "        vertical-align: middle;\n",
              "    }\n",
              "\n",
              "    .dataframe tbody tr th {\n",
              "        vertical-align: top;\n",
              "    }\n",
              "\n",
              "    .dataframe thead th {\n",
              "        text-align: right;\n",
              "    }\n",
              "</style>\n",
              "<table border=\"1\" class=\"dataframe\">\n",
              "  <thead>\n",
              "    <tr style=\"text-align: right;\">\n",
              "      <th></th>\n",
              "      <th>Date</th>\n",
              "      <th>Tweets published</th>\n",
              "    </tr>\n",
              "  </thead>\n",
              "  <tbody>\n",
              "    <tr>\n",
              "      <th>19</th>\n",
              "      <td>2021-01-20</td>\n",
              "      <td>0</td>\n",
              "    </tr>\n",
              "    <tr>\n",
              "      <th>17</th>\n",
              "      <td>2021-01-18</td>\n",
              "      <td>0</td>\n",
              "    </tr>\n",
              "    <tr>\n",
              "      <th>30</th>\n",
              "      <td>2021-01-31</td>\n",
              "      <td>0</td>\n",
              "    </tr>\n",
              "    <tr>\n",
              "      <th>10</th>\n",
              "      <td>2021-01-11</td>\n",
              "      <td>0</td>\n",
              "    </tr>\n",
              "    <tr>\n",
              "      <th>14</th>\n",
              "      <td>2021-01-15</td>\n",
              "      <td>2</td>\n",
              "    </tr>\n",
              "  </tbody>\n",
              "</table>\n",
              "</div>"
            ],
            "text/plain": [
              "          Date  Tweets published\n",
              "19  2021-01-20                 0\n",
              "17  2021-01-18                 0\n",
              "30  2021-01-31                 0\n",
              "10  2021-01-11                 0\n",
              "14  2021-01-15                 2"
            ]
          },
          "metadata": {
            "tags": []
          },
          "execution_count": 29
        }
      ]
    },
    {
      "cell_type": "markdown",
      "metadata": {
        "id": "lQcROltv-Af0"
      },
      "source": [
        "# Make the chart\n",
        "\n",
        "Should be able to plot directly, unless I need to do something about the dates."
      ]
    },
    {
      "cell_type": "markdown",
      "metadata": {
        "id": "j0EkY6kyCOOk"
      },
      "source": [
        "Need to do some minor formatting for the chart.\n",
        "\n",
        "StackOverflow - [Changing the “tick frequency” on x or y axis in matplotlib?](https://stackoverflow.com/questions/12608788/changing-the-tick-frequency-on-x-or-y-axis-in-matplotlib)\n",
        "\n",
        "Learn Python - [String Formatting](https://www.learnpython.org/en/String_Formatting)"
      ]
    },
    {
      "cell_type": "code",
      "metadata": {
        "colab": {
          "base_uri": "https://localhost:8080/",
          "height": 670
        },
        "id": "vmR3BbmWlL_C",
        "outputId": "2658ad8d-8159-46c0-bcf8-a37550809e39"
      },
      "source": [
        "# not surprisingly it looks like xaxis and yaxis are reserved so best not to overload\n",
        "\n",
        "tweets_xaxis = 'Date' \n",
        "tweets_yaxis = 'Tweets published'\n",
        "\n",
        "tweets_title = \"Tweets per day\"\n",
        "\n",
        "stepsize_yaxis = 1\n",
        "\n",
        "# with the size chosen, the y axis font default is so small that 4.0 looks like 40\n",
        "# so change the yaxis display\n",
        "# tried formatting with %d for integers\n",
        "# but if you do that it just strips the floating point rather than actually changing\n",
        "#   the ticks, so you get 3 for 3.0 but also 3 for 3.5, which is not good\n",
        "\n",
        "# assign the yaxis set_ticks output to _ to discard it\n",
        "\n",
        "ax = df_twitter_analytics_data.plot.bar(x=tweets_xaxis,y=tweets_yaxis,figsize=(30,10),legend=False,title=tweets_title)\n",
        "start_yaxis, end_yaxis = ax.get_ylim()\n",
        "_ = ax.yaxis.set_ticks(np.arange(start_yaxis, end_yaxis, stepsize_yaxis))\n",
        "\n",
        "# with this stepsize I don't need to change the formatting to %d decimal since it is integer steps\n",
        "# ax.yaxis.set_major_formatter(ticker.FormatStrFormatter('%d'))"
      ],
      "execution_count": 32,
      "outputs": [
        {
          "output_type": "display_data",
          "data": {
            "image/png": "[encoded data removed]",
            "text/plain": [
              "<Figure size 2160x720 with 1 Axes>"
            ]
          },
          "metadata": {
            "tags": [],
            "needs_background": "light"
          }
        }
      ]
    }
  ]
}